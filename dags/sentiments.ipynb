{
 "cells": [
  {
   "cell_type": "code",
   "execution_count": 528,
   "id": "bbb562ca-4fc8-47bf-8422-c4c9997ce607",
   "metadata": {},
   "outputs": [
    {
     "name": "stderr",
     "output_type": "stream",
     "text": [
      "[nltk_data] Downloading package vader_lexicon to\n",
      "[nltk_data]     /Users/yuntiangu/nltk_data...\n",
      "[nltk_data]   Package vader_lexicon is already up-to-date!\n"
     ]
    }
   ],
   "source": [
    "import yfinance as yf\n",
    "import pandas as pd\n",
    "from pandas_datareader.data import DataReader\n",
    "from datetime import datetime\n",
    "import requests\n",
    "import requests_cache\n",
    "import nltk\n",
    "nltk.download('vader_lexicon')\n",
    "from nltk.sentiment.vader import SentimentIntensityAnalyzer\n",
    "import exchange_calendars as xcals\n",
    "from bs4 import BeautifulSoup\n",
    "import ujson\n",
    "import numpy as np"
   ]
  },
  {
   "cell_type": "code",
   "execution_count": 380,
   "id": "20e5af9b-3e51-49fa-bcde-1adf364719ca",
   "metadata": {},
   "outputs": [
    {
     "data": {
      "text/plain": [
       "False"
      ]
     },
     "execution_count": 380,
     "metadata": {},
     "output_type": "execute_result"
    }
   ],
   "source": [
    "xses = xcals.get_calendar('XSES')\n",
    "last_trading_day = xses.date_to_session('2022-04-03', direction='previous').strftime(\"%Y-%m-%d\")\n",
    "last_trading_day\n",
    "xses.is_session(datetime.today().strftime(\"%Y-%m-%d\"))"
   ]
  },
  {
   "cell_type": "code",
   "execution_count": 303,
   "id": "3669e54a-2c07-4a33-9139-d8b9b0da6435",
   "metadata": {},
   "outputs": [],
   "source": [
    "portfolio_tickers = [ (str(s)[str(s).find('(') + 1 : str(s).find(')')].split(':'))[-1] + '.SI' for s in list(pd.read_html('https://sginvestors.io/analysts/sti-straits-times-index-constituents-target-price')[0]['Straits Times Index STI Constituent'])]"
   ]
  },
  {
   "cell_type": "code",
   "execution_count": 339,
   "id": "4377a3bb-f392-4d2b-9dc4-f9c986fc2fa1",
   "metadata": {},
   "outputs": [],
   "source": [
    "session = requests_cache.CachedSession(cache_name='cache', backend='sqlite')\n",
    "# just add headers to your session and provide it to the reader\n",
    "session.headers = {'User-Agent': 'Mozilla/5.0 (X11; Ubuntu; Linux x86_64; rv:89.0) Gecko/20100101 Firefox/89.0',\n",
    "                   'Accept': 'application/json;charset=utf-8'}"
   ]
  },
  {
   "cell_type": "code",
   "execution_count": 340,
   "id": "a2a94f6a-1976-41a5-a438-81eaf45c426e",
   "metadata": {},
   "outputs": [
    {
     "ename": "ValueError",
     "evalue": "list.remove(x): x not in list",
     "output_type": "error",
     "traceback": [
      "\u001b[0;31m---------------------------------------------------------------------------\u001b[0m",
      "\u001b[0;31mValueError\u001b[0m                                Traceback (most recent call last)",
      "\u001b[0;32m<ipython-input-340-48a5077a7cc4>\u001b[0m in \u001b[0;36m<module>\u001b[0;34m\u001b[0m\n\u001b[0;32m----> 1\u001b[0;31m \u001b[0mportfolio_tickers\u001b[0m\u001b[0;34m.\u001b[0m\u001b[0mremove\u001b[0m\u001b[0;34m(\u001b[0m\u001b[0;34m'na.SI'\u001b[0m\u001b[0;34m)\u001b[0m\u001b[0;34m\u001b[0m\u001b[0;34m\u001b[0m\u001b[0m\n\u001b[0m",
      "\u001b[0;31mValueError\u001b[0m: list.remove(x): x not in list"
     ]
    }
   ],
   "source": [
    "portfolio_tickers.remove('na.SI')"
   ]
  },
  {
   "cell_type": "code",
   "execution_count": 323,
   "id": "ddc1bce2-2e50-4626-b96b-1967f33110b6",
   "metadata": {},
   "outputs": [
    {
     "name": "stdout",
     "output_type": "stream",
     "text": [
      "[*********************100%***********************]  30 of 30 completed\n"
     ]
    }
   ],
   "source": [
    "dff = yf.download(' '.join(portfolio_tickers))"
   ]
  },
  {
   "cell_type": "code",
   "execution_count": 310,
   "id": "99daef98-92c9-458b-8697-a5fcdea479dc",
   "metadata": {},
   "outputs": [
    {
     "ename": "AttributeError",
     "evalue": "'Tickers' object has no attribute 'info'",
     "output_type": "error",
     "traceback": [
      "\u001b[0;31m---------------------------------------------------------------------------\u001b[0m",
      "\u001b[0;31mAttributeError\u001b[0m                            Traceback (most recent call last)",
      "\u001b[0;32m<ipython-input-310-0e12b13b3f1a>\u001b[0m in \u001b[0;36m<module>\u001b[0;34m\u001b[0m\n\u001b[0;32m----> 1\u001b[0;31m \u001b[0myf\u001b[0m\u001b[0;34m.\u001b[0m\u001b[0mTickers\u001b[0m\u001b[0;34m(\u001b[0m\u001b[0mportfolio_tickers\u001b[0m\u001b[0;34m)\u001b[0m\u001b[0;34m.\u001b[0m\u001b[0minfo\u001b[0m\u001b[0;34m\u001b[0m\u001b[0;34m\u001b[0m\u001b[0m\n\u001b[0m",
      "\u001b[0;31mAttributeError\u001b[0m: 'Tickers' object has no attribute 'info'"
     ]
    }
   ],
   "source": [
    "yf.Tickers(portfolio_tickers).info"
   ]
  },
  {
   "cell_type": "code",
   "execution_count": 330,
   "id": "90f94993-91ea-46a2-b315-798206fc3329",
   "metadata": {},
   "outputs": [],
   "source": [
    "dff.to_csv('./yf_data_downloaded.csv')"
   ]
  },
  {
   "cell_type": "code",
   "execution_count": 379,
   "id": "abdd051f-6f35-421b-b4e7-0ffd6d341680",
   "metadata": {
    "tags": []
   },
   "outputs": [],
   "source": [
    "for ticker in portfolio_tickers:\n",
    "    DataReader(ticker, 'yahoo', end=last_trading_day, session=session).to_csv(f'./yf_data/{last_trading_day}_{ticker}.csv')"
   ]
  },
  {
   "cell_type": "code",
   "execution_count": null,
   "id": "2efeabfb-e251-4574-a1a2-116b18404709",
   "metadata": {},
   "outputs": [],
   "source": [
    "pd.read_html('https://sginvestors.io/analysts/sti-straits-times-index-constituents-target-price')[0]"
   ]
  },
  {
   "cell_type": "code",
   "execution_count": null,
   "id": "d7f78347-136b-4017-a196-ef96fade7593",
   "metadata": {},
   "outputs": [],
   "source": [
    "yf.tick"
   ]
  },
  {
   "cell_type": "code",
   "execution_count": null,
   "id": "ff64c9fa-98e8-42f5-b788-9b0a101c4fb0",
   "metadata": {},
   "outputs": [],
   "source": [
    "testList = portfolio_tickers[:5]\n",
    "testList"
   ]
  },
  {
   "cell_type": "code",
   "execution_count": null,
   "id": "1bd92739-df1a-4d2a-a345-73f00c09874e",
   "metadata": {},
   "outputs": [],
   "source": [
    "for ticker in testList:\n",
    "    print(f'{ticker} News:', yf.Ticker(ticker))\n",
    "    break"
   ]
  },
  {
   "cell_type": "code",
   "execution_count": null,
   "id": "f08a46b3-7578-41ce-be92-2556d9075252",
   "metadata": {},
   "outputs": [],
   "source": [
    "u11 = yf.Ticker('U11.SI')"
   ]
  },
  {
   "cell_type": "code",
   "execution_count": 427,
   "id": "93e361a9-cf48-4159-9025-277c3b94a1b3",
   "metadata": {},
   "outputs": [],
   "source": [
    "session = requests_cache.CachedSession(cache_name='cache', backend='sqlite')\n",
    "# just add headers to your session and provide it to the reader\n",
    "session.headers = {'User-Agent': 'Mozilla/5.0 (X11; Ubuntu; Linux x86_64; rv:89.0) Gecko/20100101 Firefox/89.0',\n",
    "                   'Accept': 'application/json;charset=utf-8'}\n",
    "\n"
   ]
  },
  {
   "cell_type": "code",
   "execution_count": 432,
   "id": "7ba0f662-0b8f-4611-bc37-c00be6e9eef8",
   "metadata": {},
   "outputs": [],
   "source": [
    "def initialise_portfolio_info_data(port_ticks):\n",
    "    all_info = []\n",
    "    for ticker in port_ticks:\n",
    "        sInfo = yf.Ticker(ticker).info\n",
    "        all_info.append(sInfo)\n",
    "\n",
    "    return pd.DataFrame(all_info)\n",
    "    "
   ]
  },
  {
   "cell_type": "code",
   "execution_count": 433,
   "id": "d07092a0-cfde-4b76-ac4d-7d04c304e15f",
   "metadata": {},
   "outputs": [
    {
     "data": {
      "text/html": [
       "<div>\n",
       "<style scoped>\n",
       "    .dataframe tbody tr th:only-of-type {\n",
       "        vertical-align: middle;\n",
       "    }\n",
       "\n",
       "    .dataframe tbody tr th {\n",
       "        vertical-align: top;\n",
       "    }\n",
       "\n",
       "    .dataframe thead th {\n",
       "        text-align: right;\n",
       "    }\n",
       "</style>\n",
       "<table border=\"1\" class=\"dataframe\">\n",
       "  <thead>\n",
       "    <tr style=\"text-align: right;\">\n",
       "      <th></th>\n",
       "      <th>zip</th>\n",
       "      <th>sector</th>\n",
       "      <th>fullTimeEmployees</th>\n",
       "      <th>longBusinessSummary</th>\n",
       "      <th>city</th>\n",
       "      <th>phone</th>\n",
       "      <th>country</th>\n",
       "      <th>companyOfficers</th>\n",
       "      <th>website</th>\n",
       "      <th>maxAge</th>\n",
       "      <th>...</th>\n",
       "      <th>bidSize</th>\n",
       "      <th>dayHigh</th>\n",
       "      <th>regularMarketPrice</th>\n",
       "      <th>preMarketPrice</th>\n",
       "      <th>logo_url</th>\n",
       "      <th>trailingPegRatio</th>\n",
       "      <th>underlyingSymbol</th>\n",
       "      <th>underlyingExchangeSymbol</th>\n",
       "      <th>headSymbol</th>\n",
       "      <th>uuid</th>\n",
       "    </tr>\n",
       "  </thead>\n",
       "  <tbody>\n",
       "    <tr>\n",
       "      <th>0</th>\n",
       "      <td>048624</td>\n",
       "      <td>Financial Services</td>\n",
       "      <td>24346.0</td>\n",
       "      <td>United Overseas Bank Limited, together with it...</td>\n",
       "      <td>Singapore</td>\n",
       "      <td>65 6533 9898</td>\n",
       "      <td>Singapore</td>\n",
       "      <td>[]</td>\n",
       "      <td>https://www.uobgroup.com</td>\n",
       "      <td>1</td>\n",
       "      <td>...</td>\n",
       "      <td>0.0</td>\n",
       "      <td>32.12</td>\n",
       "      <td>31.96</td>\n",
       "      <td>None</td>\n",
       "      <td>https://logo.clearbit.com/uobgroup.com</td>\n",
       "      <td>0.9106</td>\n",
       "      <td>NaN</td>\n",
       "      <td>NaN</td>\n",
       "      <td>NaN</td>\n",
       "      <td>NaN</td>\n",
       "    </tr>\n",
       "    <tr>\n",
       "      <th>1</th>\n",
       "      <td>018982</td>\n",
       "      <td>Financial Services</td>\n",
       "      <td>33000.0</td>\n",
       "      <td>DBS Group Holdings Ltd provides financial prod...</td>\n",
       "      <td>Singapore</td>\n",
       "      <td>65 6878 8888</td>\n",
       "      <td>Singapore</td>\n",
       "      <td>[]</td>\n",
       "      <td>https://www.dbs.com</td>\n",
       "      <td>1</td>\n",
       "      <td>...</td>\n",
       "      <td>0.0</td>\n",
       "      <td>35.73</td>\n",
       "      <td>35.55</td>\n",
       "      <td>None</td>\n",
       "      <td>https://logo.clearbit.com/dbs.com</td>\n",
       "      <td>1.2243</td>\n",
       "      <td>NaN</td>\n",
       "      <td>NaN</td>\n",
       "      <td>NaN</td>\n",
       "      <td>NaN</td>\n",
       "    </tr>\n",
       "    <tr>\n",
       "      <th>2</th>\n",
       "      <td>579701</td>\n",
       "      <td>Industrials</td>\n",
       "      <td>23187.0</td>\n",
       "      <td>ComfortDelGro Corporation Limited, an investme...</td>\n",
       "      <td>Singapore</td>\n",
       "      <td>65 6383 8833</td>\n",
       "      <td>Singapore</td>\n",
       "      <td>[]</td>\n",
       "      <td>https://www.comfortdelgro.com</td>\n",
       "      <td>1</td>\n",
       "      <td>...</td>\n",
       "      <td>0.0</td>\n",
       "      <td>1.50</td>\n",
       "      <td>1.49</td>\n",
       "      <td>None</td>\n",
       "      <td>https://logo.clearbit.com/comfortdelgro.com</td>\n",
       "      <td>NaN</td>\n",
       "      <td>NaN</td>\n",
       "      <td>NaN</td>\n",
       "      <td>NaN</td>\n",
       "      <td>NaN</td>\n",
       "    </tr>\n",
       "    <tr>\n",
       "      <th>3</th>\n",
       "      <td>098632</td>\n",
       "      <td>Industrials</td>\n",
       "      <td>16393.0</td>\n",
       "      <td>Keppel Corporation Limited, an investment hold...</td>\n",
       "      <td>Singapore</td>\n",
       "      <td>65 6270 6666</td>\n",
       "      <td>Singapore</td>\n",
       "      <td>[]</td>\n",
       "      <td>https://www.kepcorp.com</td>\n",
       "      <td>1</td>\n",
       "      <td>...</td>\n",
       "      <td>0.0</td>\n",
       "      <td>6.46</td>\n",
       "      <td>6.46</td>\n",
       "      <td>None</td>\n",
       "      <td>https://logo.clearbit.com/kepcorp.com</td>\n",
       "      <td>3.7558</td>\n",
       "      <td>NaN</td>\n",
       "      <td>NaN</td>\n",
       "      <td>NaN</td>\n",
       "      <td>NaN</td>\n",
       "    </tr>\n",
       "    <tr>\n",
       "      <th>4</th>\n",
       "      <td>569873</td>\n",
       "      <td>Technology</td>\n",
       "      <td>12000.0</td>\n",
       "      <td>Venture Corporation Limited provides technolog...</td>\n",
       "      <td>Singapore</td>\n",
       "      <td>65 6482 1755</td>\n",
       "      <td>Singapore</td>\n",
       "      <td>[]</td>\n",
       "      <td>https://www.venture.com.sg</td>\n",
       "      <td>1</td>\n",
       "      <td>...</td>\n",
       "      <td>0.0</td>\n",
       "      <td>17.63</td>\n",
       "      <td>17.62</td>\n",
       "      <td>None</td>\n",
       "      <td>https://logo.clearbit.com/venture.com.sg</td>\n",
       "      <td>NaN</td>\n",
       "      <td>NaN</td>\n",
       "      <td>NaN</td>\n",
       "      <td>NaN</td>\n",
       "      <td>NaN</td>\n",
       "    </tr>\n",
       "  </tbody>\n",
       "</table>\n",
       "<p>5 rows × 158 columns</p>\n",
       "</div>"
      ],
      "text/plain": [
       "      zip              sector  fullTimeEmployees  \\\n",
       "0  048624  Financial Services            24346.0   \n",
       "1  018982  Financial Services            33000.0   \n",
       "2  579701         Industrials            23187.0   \n",
       "3  098632         Industrials            16393.0   \n",
       "4  569873          Technology            12000.0   \n",
       "\n",
       "                                 longBusinessSummary       city         phone  \\\n",
       "0  United Overseas Bank Limited, together with it...  Singapore  65 6533 9898   \n",
       "1  DBS Group Holdings Ltd provides financial prod...  Singapore  65 6878 8888   \n",
       "2  ComfortDelGro Corporation Limited, an investme...  Singapore  65 6383 8833   \n",
       "3  Keppel Corporation Limited, an investment hold...  Singapore  65 6270 6666   \n",
       "4  Venture Corporation Limited provides technolog...  Singapore  65 6482 1755   \n",
       "\n",
       "     country companyOfficers                        website  maxAge  ...  \\\n",
       "0  Singapore              []       https://www.uobgroup.com       1  ...   \n",
       "1  Singapore              []            https://www.dbs.com       1  ...   \n",
       "2  Singapore              []  https://www.comfortdelgro.com       1  ...   \n",
       "3  Singapore              []        https://www.kepcorp.com       1  ...   \n",
       "4  Singapore              []     https://www.venture.com.sg       1  ...   \n",
       "\n",
       "  bidSize dayHigh regularMarketPrice preMarketPrice  \\\n",
       "0     0.0   32.12              31.96           None   \n",
       "1     0.0   35.73              35.55           None   \n",
       "2     0.0    1.50               1.49           None   \n",
       "3     0.0    6.46               6.46           None   \n",
       "4     0.0   17.63              17.62           None   \n",
       "\n",
       "                                      logo_url  trailingPegRatio  \\\n",
       "0       https://logo.clearbit.com/uobgroup.com            0.9106   \n",
       "1            https://logo.clearbit.com/dbs.com            1.2243   \n",
       "2  https://logo.clearbit.com/comfortdelgro.com               NaN   \n",
       "3        https://logo.clearbit.com/kepcorp.com            3.7558   \n",
       "4     https://logo.clearbit.com/venture.com.sg               NaN   \n",
       "\n",
       "   underlyingSymbol  underlyingExchangeSymbol  headSymbol  uuid  \n",
       "0               NaN                       NaN         NaN   NaN  \n",
       "1               NaN                       NaN         NaN   NaN  \n",
       "2               NaN                       NaN         NaN   NaN  \n",
       "3               NaN                       NaN         NaN   NaN  \n",
       "4               NaN                       NaN         NaN   NaN  \n",
       "\n",
       "[5 rows x 158 columns]"
      ]
     },
     "execution_count": 433,
     "metadata": {},
     "output_type": "execute_result"
    }
   ],
   "source": [
    "info_df = initialise_portfolio_info_data(portfolio_tickers)\n",
    "info_df.head()"
   ]
  },
  {
   "cell_type": "code",
   "execution_count": 463,
   "id": "78851d53-624d-4643-87bb-36762b8cf1d5",
   "metadata": {},
   "outputs": [
    {
     "data": {
      "text/html": [
       "<div>\n",
       "<style scoped>\n",
       "    .dataframe tbody tr th:only-of-type {\n",
       "        vertical-align: middle;\n",
       "    }\n",
       "\n",
       "    .dataframe tbody tr th {\n",
       "        vertical-align: top;\n",
       "    }\n",
       "\n",
       "    .dataframe thead th {\n",
       "        text-align: right;\n",
       "    }\n",
       "</style>\n",
       "<table border=\"1\" class=\"dataframe\">\n",
       "  <thead>\n",
       "    <tr style=\"text-align: right;\">\n",
       "      <th></th>\n",
       "      <th>longName</th>\n",
       "      <th>symbol</th>\n",
       "      <th>longNameCaps</th>\n",
       "    </tr>\n",
       "  </thead>\n",
       "  <tbody>\n",
       "    <tr>\n",
       "      <th>0</th>\n",
       "      <td>United Overseas Bank Limited</td>\n",
       "      <td>U11.SI</td>\n",
       "      <td>UNITED OVERSEAS BANK LIMITED</td>\n",
       "    </tr>\n",
       "    <tr>\n",
       "      <th>1</th>\n",
       "      <td>DBS Group Holdings Ltd</td>\n",
       "      <td>D05.SI</td>\n",
       "      <td>DBS GROUP HOLDINGS LTD</td>\n",
       "    </tr>\n",
       "    <tr>\n",
       "      <th>2</th>\n",
       "      <td>ComfortDelGro Corporation Limited</td>\n",
       "      <td>C52.SI</td>\n",
       "      <td>COMFORTDELGRO CORPORATION LIMITED</td>\n",
       "    </tr>\n",
       "    <tr>\n",
       "      <th>3</th>\n",
       "      <td>Keppel Corporation Limited</td>\n",
       "      <td>BN4.SI</td>\n",
       "      <td>KEPPEL CORPORATION LIMITED</td>\n",
       "    </tr>\n",
       "    <tr>\n",
       "      <th>4</th>\n",
       "      <td>Venture Corporation Limited</td>\n",
       "      <td>V03.SI</td>\n",
       "      <td>VENTURE CORPORATION LIMITED</td>\n",
       "    </tr>\n",
       "    <tr>\n",
       "      <th>5</th>\n",
       "      <td>CapitaLand Integrated Commercial Trust</td>\n",
       "      <td>C38U.SI</td>\n",
       "      <td>CAPITALAND INTEGRATED COMMERCIAL TRUST</td>\n",
       "    </tr>\n",
       "    <tr>\n",
       "      <th>6</th>\n",
       "      <td>Ascendas Real Estate Investment Trust</td>\n",
       "      <td>A17U.SI</td>\n",
       "      <td>ASCENDAS REAL ESTATE INVESTMENT TRUST</td>\n",
       "    </tr>\n",
       "    <tr>\n",
       "      <th>7</th>\n",
       "      <td>Singapore Telecommunications Limited</td>\n",
       "      <td>Z74.SI</td>\n",
       "      <td>SINGAPORE TELECOMMUNICATIONS LIMITED</td>\n",
       "    </tr>\n",
       "    <tr>\n",
       "      <th>8</th>\n",
       "      <td>Oversea-Chinese Banking Corporation Limited</td>\n",
       "      <td>O39.SI</td>\n",
       "      <td>OVERSEA-CHINESE BANKING CORPORATION LIMITED</td>\n",
       "    </tr>\n",
       "    <tr>\n",
       "      <th>9</th>\n",
       "      <td>Mapletree Commercial Trust</td>\n",
       "      <td>N2IU.SI</td>\n",
       "      <td>MAPLETREE COMMERCIAL TRUST</td>\n",
       "    </tr>\n",
       "    <tr>\n",
       "      <th>10</th>\n",
       "      <td>Thai Beverage Public Company Limited</td>\n",
       "      <td>Y92.SI</td>\n",
       "      <td>THAI BEVERAGE PUBLIC COMPANY LIMITED</td>\n",
       "    </tr>\n",
       "    <tr>\n",
       "      <th>11</th>\n",
       "      <td>Wilmar International Limited</td>\n",
       "      <td>F34.SI</td>\n",
       "      <td>WILMAR INTERNATIONAL LIMITED</td>\n",
       "    </tr>\n",
       "    <tr>\n",
       "      <th>12</th>\n",
       "      <td>Mapletree Industrial Trust</td>\n",
       "      <td>ME8U.SI</td>\n",
       "      <td>MAPLETREE INDUSTRIAL TRUST</td>\n",
       "    </tr>\n",
       "    <tr>\n",
       "      <th>13</th>\n",
       "      <td>Keppel DC REIT</td>\n",
       "      <td>AJBU.SI</td>\n",
       "      <td>KEPPEL DC REIT</td>\n",
       "    </tr>\n",
       "    <tr>\n",
       "      <th>14</th>\n",
       "      <td>City Developments Limited</td>\n",
       "      <td>C09.SI</td>\n",
       "      <td>CITY DEVELOPMENTS LIMITED</td>\n",
       "    </tr>\n",
       "    <tr>\n",
       "      <th>15</th>\n",
       "      <td>Mapletree Logistics Trust</td>\n",
       "      <td>M44U.SI</td>\n",
       "      <td>MAPLETREE LOGISTICS TRUST</td>\n",
       "    </tr>\n",
       "    <tr>\n",
       "      <th>16</th>\n",
       "      <td>Sembcorp Industries Ltd</td>\n",
       "      <td>U96.SI</td>\n",
       "      <td>SEMBCORP INDUSTRIES LTD</td>\n",
       "    </tr>\n",
       "    <tr>\n",
       "      <th>17</th>\n",
       "      <td>CapitaLand Investment Limited</td>\n",
       "      <td>9CI.SI</td>\n",
       "      <td>CAPITALAND INVESTMENT LIMITED</td>\n",
       "    </tr>\n",
       "    <tr>\n",
       "      <th>18</th>\n",
       "      <td>Yangzijiang Shipbuilding (Holdings) Ltd.</td>\n",
       "      <td>BS6.SI</td>\n",
       "      <td>YANGZIJIANG SHIPBUILDING (HOLDINGS) LTD.</td>\n",
       "    </tr>\n",
       "    <tr>\n",
       "      <th>19</th>\n",
       "      <td>Genting Singapore Limited</td>\n",
       "      <td>G13.SI</td>\n",
       "      <td>GENTING SINGAPORE LIMITED</td>\n",
       "    </tr>\n",
       "    <tr>\n",
       "      <th>20</th>\n",
       "      <td>SATS Ltd.</td>\n",
       "      <td>S58.SI</td>\n",
       "      <td>SATS LTD.</td>\n",
       "    </tr>\n",
       "    <tr>\n",
       "      <th>21</th>\n",
       "      <td>Frasers Logistics &amp; Commercial Trust</td>\n",
       "      <td>BUOU.SI</td>\n",
       "      <td>FRASERS LOGISTICS &amp; COMMERCIAL TRUST</td>\n",
       "    </tr>\n",
       "    <tr>\n",
       "      <th>22</th>\n",
       "      <td>Hongkong Land Holdings Limited</td>\n",
       "      <td>H78.SI</td>\n",
       "      <td>HONGKONG LAND HOLDINGS LIMITED</td>\n",
       "    </tr>\n",
       "    <tr>\n",
       "      <th>23</th>\n",
       "      <td>UOL Group Limited</td>\n",
       "      <td>U14.SI</td>\n",
       "      <td>UOL GROUP LIMITED</td>\n",
       "    </tr>\n",
       "    <tr>\n",
       "      <th>24</th>\n",
       "      <td>Singapore Exchange Limited</td>\n",
       "      <td>S68.SI</td>\n",
       "      <td>SINGAPORE EXCHANGE LIMITED</td>\n",
       "    </tr>\n",
       "    <tr>\n",
       "      <th>25</th>\n",
       "      <td>Dairy Farm International Holdings Limited</td>\n",
       "      <td>D01.SI</td>\n",
       "      <td>DAIRY FARM INTERNATIONAL HOLDINGS LIMITED</td>\n",
       "    </tr>\n",
       "    <tr>\n",
       "      <th>26</th>\n",
       "      <td>Singapore Airlines Limited</td>\n",
       "      <td>C6L.SI</td>\n",
       "      <td>SINGAPORE AIRLINES LIMITED</td>\n",
       "    </tr>\n",
       "    <tr>\n",
       "      <th>27</th>\n",
       "      <td>Singapore Technologies Engineering Ltd</td>\n",
       "      <td>S63.SI</td>\n",
       "      <td>SINGAPORE TECHNOLOGIES ENGINEERING LTD</td>\n",
       "    </tr>\n",
       "    <tr>\n",
       "      <th>28</th>\n",
       "      <td>Jardine Cycle &amp; Carriage Limited</td>\n",
       "      <td>C07.SI</td>\n",
       "      <td>JARDINE CYCLE &amp; CARRIAGE LIMITED</td>\n",
       "    </tr>\n",
       "    <tr>\n",
       "      <th>29</th>\n",
       "      <td>Jardine Matheson Holdings Limited</td>\n",
       "      <td>J36.SI</td>\n",
       "      <td>JARDINE MATHESON HOLDINGS LIMITED</td>\n",
       "    </tr>\n",
       "  </tbody>\n",
       "</table>\n",
       "</div>"
      ],
      "text/plain": [
       "                                       longName   symbol  \\\n",
       "0                  United Overseas Bank Limited   U11.SI   \n",
       "1                        DBS Group Holdings Ltd   D05.SI   \n",
       "2             ComfortDelGro Corporation Limited   C52.SI   \n",
       "3                    Keppel Corporation Limited   BN4.SI   \n",
       "4                   Venture Corporation Limited   V03.SI   \n",
       "5        CapitaLand Integrated Commercial Trust  C38U.SI   \n",
       "6         Ascendas Real Estate Investment Trust  A17U.SI   \n",
       "7          Singapore Telecommunications Limited   Z74.SI   \n",
       "8   Oversea-Chinese Banking Corporation Limited   O39.SI   \n",
       "9                    Mapletree Commercial Trust  N2IU.SI   \n",
       "10         Thai Beverage Public Company Limited   Y92.SI   \n",
       "11                 Wilmar International Limited   F34.SI   \n",
       "12                   Mapletree Industrial Trust  ME8U.SI   \n",
       "13                               Keppel DC REIT  AJBU.SI   \n",
       "14                    City Developments Limited   C09.SI   \n",
       "15                    Mapletree Logistics Trust  M44U.SI   \n",
       "16                      Sembcorp Industries Ltd   U96.SI   \n",
       "17                CapitaLand Investment Limited   9CI.SI   \n",
       "18     Yangzijiang Shipbuilding (Holdings) Ltd.   BS6.SI   \n",
       "19                    Genting Singapore Limited   G13.SI   \n",
       "20                                    SATS Ltd.   S58.SI   \n",
       "21         Frasers Logistics & Commercial Trust  BUOU.SI   \n",
       "22               Hongkong Land Holdings Limited   H78.SI   \n",
       "23                            UOL Group Limited   U14.SI   \n",
       "24                   Singapore Exchange Limited   S68.SI   \n",
       "25    Dairy Farm International Holdings Limited   D01.SI   \n",
       "26                   Singapore Airlines Limited   C6L.SI   \n",
       "27       Singapore Technologies Engineering Ltd   S63.SI   \n",
       "28             Jardine Cycle & Carriage Limited   C07.SI   \n",
       "29            Jardine Matheson Holdings Limited   J36.SI   \n",
       "\n",
       "                                   longNameCaps  \n",
       "0                  UNITED OVERSEAS BANK LIMITED  \n",
       "1                        DBS GROUP HOLDINGS LTD  \n",
       "2             COMFORTDELGRO CORPORATION LIMITED  \n",
       "3                    KEPPEL CORPORATION LIMITED  \n",
       "4                   VENTURE CORPORATION LIMITED  \n",
       "5        CAPITALAND INTEGRATED COMMERCIAL TRUST  \n",
       "6         ASCENDAS REAL ESTATE INVESTMENT TRUST  \n",
       "7          SINGAPORE TELECOMMUNICATIONS LIMITED  \n",
       "8   OVERSEA-CHINESE BANKING CORPORATION LIMITED  \n",
       "9                    MAPLETREE COMMERCIAL TRUST  \n",
       "10         THAI BEVERAGE PUBLIC COMPANY LIMITED  \n",
       "11                 WILMAR INTERNATIONAL LIMITED  \n",
       "12                   MAPLETREE INDUSTRIAL TRUST  \n",
       "13                               KEPPEL DC REIT  \n",
       "14                    CITY DEVELOPMENTS LIMITED  \n",
       "15                    MAPLETREE LOGISTICS TRUST  \n",
       "16                      SEMBCORP INDUSTRIES LTD  \n",
       "17                CAPITALAND INVESTMENT LIMITED  \n",
       "18     YANGZIJIANG SHIPBUILDING (HOLDINGS) LTD.  \n",
       "19                    GENTING SINGAPORE LIMITED  \n",
       "20                                    SATS LTD.  \n",
       "21         FRASERS LOGISTICS & COMMERCIAL TRUST  \n",
       "22               HONGKONG LAND HOLDINGS LIMITED  \n",
       "23                            UOL GROUP LIMITED  \n",
       "24                   SINGAPORE EXCHANGE LIMITED  \n",
       "25    DAIRY FARM INTERNATIONAL HOLDINGS LIMITED  \n",
       "26                   SINGAPORE AIRLINES LIMITED  \n",
       "27       SINGAPORE TECHNOLOGIES ENGINEERING LTD  \n",
       "28             JARDINE CYCLE & CARRIAGE LIMITED  \n",
       "29            JARDINE MATHESON HOLDINGS LIMITED  "
      ]
     },
     "execution_count": 463,
     "metadata": {},
     "output_type": "execute_result"
    }
   ],
   "source": [
    "name_sym = info_df[['longName', 'symbol']].copy()\n",
    "relLoc = name_sym.loc[name_sym['longName']== 'United Overseas Bank Limited']\n",
    "# relLoc['symbol']\n",
    "name_sym['longNameCaps'] = [x.upper() for x in list(name_sym['longName'])]\n",
    "name_sym"
   ]
  },
  {
   "cell_type": "code",
   "execution_count": 531,
   "id": "e60d82d7-08e8-4e32-81c2-9f0972951e58",
   "metadata": {},
   "outputs": [],
   "source": [
    "def get_sentimental_analysis(info_df):\n",
    "    name_sym = info_df[['longName', 'symbol']].copy()\n",
    "    name_sym['longNameCaps'] = [x.upper() for x in list(name_sym['longName'])]\n",
    "    name_sym['sentiment'] = ujson.dumps({})\n",
    "    relevant_atags = []\n",
    "    \n",
    "    res = session.get('https://sginvestors.io/news/company-announcement/latest/')\n",
    "    soup = BeautifulSoup(res.text, 'html.parser')\n",
    "    \n",
    "    all_ann = soup.find_all(\"div\", class_=\"corpannouncementitem list-group-item\")\n",
    "    all_corp_ann = soup.select_one(\"#corporate-announcements\")\n",
    "    a_tags_corp_ann = all_corp_ann.find_all('a')\n",
    "    \n",
    "    today = datetime.today().strftime(\"%Y-%m-%d\")\n",
    "    for tag in a_tags_corp_ann:\n",
    "#         print(tag.find('div', class_=\"corpann_info\").getText().split(' ')[2])\n",
    "        if tag.find('span', class_='corpann_stock').getText() in list(name_sym['longNameCaps']):\n",
    "#             if tag.find('div', class_=\"corpann_info\").getText().split(' ')[2] == today: \n",
    "            relevant_atags.append(tag)\n",
    "    \n",
    "    print('==========relevant_tags========', relevant_atags)\n",
    "    \n",
    "    \n",
    "    relevant_sentimental_analysis = []\n",
    "    for relevant_tag in relevant_atags:\n",
    "        corp_name = relevant_tag.find('span', class_='corpann_stock').getText()\n",
    "        desc = relevant_tag.find('span', class_=\"corpann_descr\").getText()\n",
    "#         print('desc', desc)\n",
    "        lyzer = SentimentIntensityAnalyzer()\n",
    "        tag_sentiment = lyzer.polarity_scores(desc)\n",
    "#         print(ujson.dumps(tag_sentiment))\n",
    "#         name_sym.loc[name_sym['longNameCaps'] == corp_name]['sentiment'] = ujson.dumps(tag_sentiment)\n",
    "        #['sentiment'] = lyzer.polarity_scores(desc)\n",
    "        name_sym['sentiment'] = np.where(name_sym['longNameCaps'] == corp_name, ujson.dumps(tag_sentiment), name_sym['sentiment'])\n",
    "    \n",
    "    \n",
    "    return name_sym"
   ]
  },
  {
   "cell_type": "code",
   "execution_count": 533,
   "id": "677b059b-8a26-4f0c-859e-6657142b8ca1",
   "metadata": {},
   "outputs": [
    {
     "name": "stdout",
     "output_type": "stream",
     "text": [
      "==========relevant_tags======== [<a href=\"https://links.sgx.com/1.0.0/corporate-announcements/OYROP2BOJK7EPAGP/a93bbadc1bf2c166ed212dc4876dd3c755b319149bcbb47096bac87e8867f870\" rel=\"nofollow\" target=\"corpannoucement\"><div class=\"corpannouncementitem list-group-item\" id=\"corpannouncementitem-364088\"><div class=\"corpann_title\"><span class=\"corpann_stock\">KEPPEL CORPORATION LIMITED</span> - <span class=\"corpann_descr\">Incorporation of wholly- owned subsidiaries</span></div><div class=\"corpann_info\"><span><i aria-hidden=\"true\" class=\"fa fa-clock-o\"></i>  2022-04-01 22:19:00</span>   <span><i aria-hidden=\"true\" class=\"fa fa-bullhorn\"></i>  Asset Acquisitions and Disposals</span></div></div></a>]\n"
     ]
    }
   ],
   "source": [
    "get_sentimental_analysis(info_df).to_csv('./test_sentimental_dailyData.csv')"
   ]
  },
  {
   "cell_type": "code",
   "execution_count": 273,
   "id": "be74bbd0-1232-4cde-93ee-2ef49c1ebf30",
   "metadata": {},
   "outputs": [],
   "source": [
    "res.text\n",
    "soup = BeautifulSoup(res.text, 'html.parser')\n",
    "all_ann = soup.find_all(\"div\", class_=\"corpannouncementitem list-group-item\")"
   ]
  },
  {
   "cell_type": "code",
   "execution_count": 447,
   "id": "524caf72-1920-41f0-ab0c-68acbf151f68",
   "metadata": {},
   "outputs": [
    {
     "name": "stdout",
     "output_type": "stream",
     "text": [
      "2022-04-02\n"
     ]
    }
   ],
   "source": [
    "# all_corp_ann = soup.find(\"div\", {\"id\": \"corporate-announcements\"})\n",
    "all_corp_ann = soup.select_one(\"#corporate-announcements\")\n",
    "a_tags_corp_ann = all_corp_ann.find_all('a')\n",
    "print(a_tags_corp_ann[0].find('div', class_=\"corpann_info\").getText().split(' ')[2])\n",
    "# all_corp_ann_sgx_links = all_corp_ann.find_all('a')\n",
    "# all_corp_ann_sgx_links[0].find('i', {\"class\": \"fa fa-clock-o\"}).getText()"
   ]
  },
  {
   "cell_type": "code",
   "execution_count": 286,
   "id": "98277f53-8374-4c1d-ac7d-a5781885beca",
   "metadata": {},
   "outputs": [],
   "source": [
    "desc = a_tags_corp_ann[1].find('span', class_=\"corpann_descr\").getText()"
   ]
  },
  {
   "cell_type": "code",
   "execution_count": 292,
   "id": "498a445a-9bac-4c0e-aaaa-645f977c5072",
   "metadata": {},
   "outputs": [
    {
     "data": {
      "text/plain": [
       "'KTL GLOBAL LIMITED'"
      ]
     },
     "execution_count": 292,
     "metadata": {},
     "output_type": "execute_result"
    }
   ],
   "source": [
    "a_tags_corp_ann[1].find('span', class_='corpann_stock').getText()"
   ]
  },
  {
   "cell_type": "code",
   "execution_count": null,
   "id": "5c32c5f2-04e9-4916-9361-a0127bfbd340",
   "metadata": {},
   "outputs": [],
   "source": [
    "print(soup.prettify())"
   ]
  },
  {
   "cell_type": "code",
   "execution_count": 478,
   "id": "b3c392d8-1109-4d91-863b-45d4bd9b7a51",
   "metadata": {},
   "outputs": [
    {
     "data": {
      "text/plain": [
       "'{\"hi\":\"hi\"}'"
      ]
     },
     "execution_count": 478,
     "metadata": {},
     "output_type": "execute_result"
    }
   ],
   "source": [
    "import ujson\n",
    "testD = {\n",
    "    'hi': \"hi\"\n",
    "}\n",
    "ujson.dumps(testD)"
   ]
  },
  {
   "cell_type": "code",
   "execution_count": 283,
   "id": "38b504d0-88a1-4816-aaff-355b81b58fe3",
   "metadata": {},
   "outputs": [
    {
     "name": "stderr",
     "output_type": "stream",
     "text": [
      "[nltk_data] Downloading package vader_lexicon to\n",
      "[nltk_data]     /Users/yuntiangu/nltk_data...\n"
     ]
    },
    {
     "data": {
      "text/plain": [
       "True"
      ]
     },
     "execution_count": 283,
     "metadata": {},
     "output_type": "execute_result"
    }
   ],
   "source": [
    "nltk.download('vader_lexicon')"
   ]
  },
  {
   "cell_type": "code",
   "execution_count": 287,
   "id": "c51bfa51-094b-425f-a5d7-814e35727955",
   "metadata": {},
   "outputs": [
    {
     "data": {
      "text/plain": [
       "{'neg': 0.167, 'neu': 0.833, 'pos': 0.0, 'compound': -0.296}"
      ]
     },
     "execution_count": 287,
     "metadata": {},
     "output_type": "execute_result"
    }
   ],
   "source": [
    "lyzer = SentimentIntensityAnalyzer()\n",
    "lyzer.polarity_scores(desc)"
   ]
  }
 ],
 "metadata": {
  "kernelspec": {
   "display_name": "Python 3",
   "language": "python",
   "name": "python3"
  },
  "language_info": {
   "codemirror_mode": {
    "name": "ipython",
    "version": 3
   },
   "file_extension": ".py",
   "mimetype": "text/x-python",
   "name": "python",
   "nbconvert_exporter": "python",
   "pygments_lexer": "ipython3",
   "version": "3.8.8"
  }
 },
 "nbformat": 4,
 "nbformat_minor": 5
}
